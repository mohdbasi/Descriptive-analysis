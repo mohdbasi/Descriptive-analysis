{
 "cells": [
  {
   "cell_type": "code",
   "execution_count": 3,
   "id": "9153041c-dd33-44c8-9a21-347da7b6b02e",
   "metadata": {},
   "outputs": [],
   "source": [
    "import pandas as pd"
   ]
  },
  {
   "cell_type": "code",
   "execution_count": 4,
   "id": "f63277d7-930b-4ffd-ab0a-6320780a6746",
   "metadata": {},
   "outputs": [],
   "source": [
    "df = pd.read_csv(\"Dataset .csv\")"
   ]
  },
  {
   "cell_type": "code",
   "execution_count": 5,
   "id": "46944613-45ac-4bb3-9692-4f5142304b10",
   "metadata": {},
   "outputs": [
    {
     "data": {
      "text/plain": [
       "Restaurant ID             int64\n",
       "Restaurant Name          object\n",
       "Country Code              int64\n",
       "City                     object\n",
       "Address                  object\n",
       "Locality                 object\n",
       "Locality Verbose         object\n",
       "Longitude               float64\n",
       "Latitude                float64\n",
       "Cuisines                 object\n",
       "Average Cost for two      int64\n",
       "Currency                 object\n",
       "Has Table booking        object\n",
       "Has Online delivery      object\n",
       "Is delivering now        object\n",
       "Switch to order menu     object\n",
       "Price range               int64\n",
       "Aggregate rating        float64\n",
       "Rating color             object\n",
       "Rating text              object\n",
       "Votes                     int64\n",
       "dtype: object"
      ]
     },
     "execution_count": 5,
     "metadata": {},
     "output_type": "execute_result"
    }
   ],
   "source": [
    "df.dtypes"
   ]
  },
  {
   "cell_type": "code",
   "execution_count": 9,
   "id": "54b6ae1f-0d70-48a9-8314-f1151cd94bed",
   "metadata": {},
   "outputs": [],
   "source": [
    "num_col=['Average Cost for two','Price range','Aggregate rating','Votes']"
   ]
  },
  {
   "cell_type": "code",
   "execution_count": 10,
   "id": "a720a4e9-93b1-4adf-8853-4e36f7f07659",
   "metadata": {},
   "outputs": [
    {
     "data": {
      "text/html": [
       "<div>\n",
       "<style scoped>\n",
       "    .dataframe tbody tr th:only-of-type {\n",
       "        vertical-align: middle;\n",
       "    }\n",
       "\n",
       "    .dataframe tbody tr th {\n",
       "        vertical-align: top;\n",
       "    }\n",
       "\n",
       "    .dataframe thead th {\n",
       "        text-align: right;\n",
       "    }\n",
       "</style>\n",
       "<table border=\"1\" class=\"dataframe\">\n",
       "  <thead>\n",
       "    <tr style=\"text-align: right;\">\n",
       "      <th></th>\n",
       "      <th>Average Cost for two</th>\n",
       "      <th>Price range</th>\n",
       "      <th>Aggregate rating</th>\n",
       "      <th>Votes</th>\n",
       "    </tr>\n",
       "  </thead>\n",
       "  <tbody>\n",
       "    <tr>\n",
       "      <th>count</th>\n",
       "      <td>9551.000000</td>\n",
       "      <td>9551.000000</td>\n",
       "      <td>9551.000000</td>\n",
       "      <td>9551.000000</td>\n",
       "    </tr>\n",
       "    <tr>\n",
       "      <th>mean</th>\n",
       "      <td>1199.210763</td>\n",
       "      <td>1.804837</td>\n",
       "      <td>2.666370</td>\n",
       "      <td>156.909748</td>\n",
       "    </tr>\n",
       "    <tr>\n",
       "      <th>std</th>\n",
       "      <td>16121.183073</td>\n",
       "      <td>0.905609</td>\n",
       "      <td>1.516378</td>\n",
       "      <td>430.169145</td>\n",
       "    </tr>\n",
       "    <tr>\n",
       "      <th>min</th>\n",
       "      <td>0.000000</td>\n",
       "      <td>1.000000</td>\n",
       "      <td>0.000000</td>\n",
       "      <td>0.000000</td>\n",
       "    </tr>\n",
       "    <tr>\n",
       "      <th>25%</th>\n",
       "      <td>250.000000</td>\n",
       "      <td>1.000000</td>\n",
       "      <td>2.500000</td>\n",
       "      <td>5.000000</td>\n",
       "    </tr>\n",
       "    <tr>\n",
       "      <th>50%</th>\n",
       "      <td>400.000000</td>\n",
       "      <td>2.000000</td>\n",
       "      <td>3.200000</td>\n",
       "      <td>31.000000</td>\n",
       "    </tr>\n",
       "    <tr>\n",
       "      <th>75%</th>\n",
       "      <td>700.000000</td>\n",
       "      <td>2.000000</td>\n",
       "      <td>3.700000</td>\n",
       "      <td>131.000000</td>\n",
       "    </tr>\n",
       "    <tr>\n",
       "      <th>max</th>\n",
       "      <td>800000.000000</td>\n",
       "      <td>4.000000</td>\n",
       "      <td>4.900000</td>\n",
       "      <td>10934.000000</td>\n",
       "    </tr>\n",
       "  </tbody>\n",
       "</table>\n",
       "</div>"
      ],
      "text/plain": [
       "       Average Cost for two  Price range  Aggregate rating         Votes\n",
       "count           9551.000000  9551.000000       9551.000000   9551.000000\n",
       "mean            1199.210763     1.804837          2.666370    156.909748\n",
       "std            16121.183073     0.905609          1.516378    430.169145\n",
       "min                0.000000     1.000000          0.000000      0.000000\n",
       "25%              250.000000     1.000000          2.500000      5.000000\n",
       "50%              400.000000     2.000000          3.200000     31.000000\n",
       "75%              700.000000     2.000000          3.700000    131.000000\n",
       "max           800000.000000     4.000000          4.900000  10934.000000"
      ]
     },
     "execution_count": 10,
     "metadata": {},
     "output_type": "execute_result"
    }
   ],
   "source": [
    "df[num_col].describe()"
   ]
  },
  {
   "cell_type": "markdown",
   "id": "2e523944-0610-4157-9e80-91477997afd4",
   "metadata": {},
   "source": [
    "## Insights"
   ]
  },
  {
   "cell_type": "markdown",
   "id": "c0f9df34-36d2-4fa8-b4ed-67cf67fa5414",
   "metadata": {},
   "source": [
    "- Average Cost for two and votes are having high standard deviation and maximum values\n",
    "- The median cost (400) and median votes (31) shows that most restaurants are having modest pricing and visibility\n",
    "- price range mostly falls between 1 and 2 which shows affordability in dataset.\n",
    "  "
   ]
  },
  {
   "cell_type": "code",
   "execution_count": 11,
   "id": "3c954f9d-87eb-41b8-a9d7-5a3a43bfc0d1",
   "metadata": {},
   "outputs": [
    {
     "data": {
      "text/plain": [
       "15"
      ]
     },
     "execution_count": 11,
     "metadata": {},
     "output_type": "execute_result"
    }
   ],
   "source": [
    "df['Country Code'].nunique()"
   ]
  },
  {
   "cell_type": "code",
   "execution_count": 12,
   "id": "66b57021-f150-46b3-a89f-ea71acd1d305",
   "metadata": {},
   "outputs": [
    {
     "data": {
      "text/plain": [
       "Country Code\n",
       "1      8652\n",
       "216     434\n",
       "215      80\n",
       "30       60\n",
       "189      60\n",
       "214      60\n",
       "148      40\n",
       "208      34\n",
       "14       24\n",
       "162      22\n",
       "94       21\n",
       "166      20\n",
       "184      20\n",
       "191      20\n",
       "37        4\n",
       "Name: count, dtype: int64"
      ]
     },
     "execution_count": 12,
     "metadata": {},
     "output_type": "execute_result"
    }
   ],
   "source": [
    "df['Country Code'].value_counts()"
   ]
  },
  {
   "cell_type": "code",
   "execution_count": 14,
   "id": "e9479592-c01b-488c-94e7-3c40de365170",
   "metadata": {},
   "outputs": [],
   "source": [
    "country_map = {\n",
    "    1: 'India',\n",
    "    14: 'Australia',\n",
    "    30: 'Brazil',\n",
    "    37: 'Canada',\n",
    "    94: 'Indonesia',\n",
    "    148: 'New Zealand',\n",
    "    162: 'Philippines',\n",
    "    166: 'Qatar',\n",
    "    184: 'Singapore',\n",
    "    189: 'South Africa',\n",
    "    191: 'Sri Lanka',\n",
    "    208: 'Turkey',\n",
    "    214: 'UAE',\n",
    "    215: 'United Kingdom',\n",
    "    216: 'United States'\n",
    "}\n"
   ]
  },
  {
   "cell_type": "code",
   "execution_count": 15,
   "id": "727b44a7-395a-4b5f-82ba-6471d385f9fe",
   "metadata": {},
   "outputs": [],
   "source": [
    "df['Country']=df['Country Code'].map(country_map)"
   ]
  },
  {
   "cell_type": "code",
   "execution_count": 19,
   "id": "ef28379f-a086-440a-99ce-a2b2b72f6909",
   "metadata": {},
   "outputs": [
    {
     "data": {
      "text/plain": [
       "Country\n",
       "India             8652\n",
       "United States      434\n",
       "United Kingdom      80\n",
       "Brazil              60\n",
       "South Africa        60\n",
       "UAE                 60\n",
       "New Zealand         40\n",
       "Turkey              34\n",
       "Australia           24\n",
       "Philippines         22\n",
       "Indonesia           21\n",
       "Qatar               20\n",
       "Singapore           20\n",
       "Sri Lanka           20\n",
       "Canada               4\n",
       "Name: count, dtype: int64"
      ]
     },
     "execution_count": 19,
     "metadata": {},
     "output_type": "execute_result"
    }
   ],
   "source": [
    "df['Country'].value_counts()\n"
   ]
  },
  {
   "cell_type": "code",
   "execution_count": 20,
   "id": "9ca268b0-06a2-4f41-beae-bb94f74f1b44",
   "metadata": {},
   "outputs": [
    {
     "data": {
      "text/plain": [
       "141"
      ]
     },
     "execution_count": 20,
     "metadata": {},
     "output_type": "execute_result"
    }
   ],
   "source": [
    "df['City'].nunique()"
   ]
  },
  {
   "cell_type": "code",
   "execution_count": 22,
   "id": "9ceef3ee-5ab4-403b-b9a7-6d9bf534aca9",
   "metadata": {},
   "outputs": [
    {
     "data": {
      "text/plain": [
       "City\n",
       "New Delhi         5473\n",
       "Gurgaon           1118\n",
       "Noida             1080\n",
       "Faridabad          251\n",
       "Ghaziabad           25\n",
       "                  ... \n",
       "Lakes Entrance       1\n",
       "Mohali               1\n",
       "Panchkula            1\n",
       "Bandung              1\n",
       "Randburg             1\n",
       "Name: count, Length: 141, dtype: int64"
      ]
     },
     "execution_count": 22,
     "metadata": {},
     "output_type": "execute_result"
    }
   ],
   "source": [
    "df['City'].value_counts()"
   ]
  },
  {
   "cell_type": "code",
   "execution_count": 23,
   "id": "d198f52c-a4c3-4e00-a8fe-9702166d417a",
   "metadata": {},
   "outputs": [
    {
     "data": {
      "text/plain": [
       "1825"
      ]
     },
     "execution_count": 23,
     "metadata": {},
     "output_type": "execute_result"
    }
   ],
   "source": [
    "df['Cuisines'].nunique()"
   ]
  },
  {
   "cell_type": "code",
   "execution_count": 24,
   "id": "d37db71d-edde-4bc6-9e60-e8152eb20d15",
   "metadata": {},
   "outputs": [
    {
     "data": {
      "text/plain": [
       "Cuisines\n",
       "North Indian                       936\n",
       "North Indian, Chinese              511\n",
       "Chinese                            354\n",
       "Fast Food                          354\n",
       "North Indian, Mughlai              334\n",
       "                                  ... \n",
       "Kebab, Izgara                        1\n",
       "World Cuisine                        1\n",
       "World Cuisine, Mexican, Italian      1\n",
       "Kebab, Turkish Pizza, D�_ner         1\n",
       "Turkish Pizza                        1\n",
       "Name: count, Length: 1825, dtype: int64"
      ]
     },
     "execution_count": 24,
     "metadata": {},
     "output_type": "execute_result"
    }
   ],
   "source": [
    "df['Cuisines'].value_counts()"
   ]
  },
  {
   "cell_type": "markdown",
   "id": "74caa3dc-da6c-4016-a453-54be361644c1",
   "metadata": {},
   "source": [
    "### Summary: Categorical Variable Exploration\n",
    "\n",
    "- **Country Code**:\n",
    "  - 15 unique countries\n",
    "  - India (Code 1) dominates with 8652 restaurants\n",
    "  - Added a new `Country` column using a mapping dictionary\n",
    "\n",
    "- **City**:\n",
    "  - 141 unique cities\n",
    "  - New Delhi leads with 5473 restaurants\n",
    "  - Data is heavily concentrated in Indian metro areas\n",
    "\n",
    "- **Cuisines**:\n",
    "  - 1825 unique cuisine combinations\n",
    "  - North Indian is the most common cuisine (936 entries)\n",
    "  - Long-tail distribution with many unique combinations used only once\n"
   ]
  },
  {
   "cell_type": "code",
   "execution_count": null,
   "id": "885a441b-4805-4eb0-b70a-4cf8dba127cb",
   "metadata": {},
   "outputs": [],
   "source": []
  }
 ],
 "metadata": {
  "kernelspec": {
   "display_name": "Python [conda env:base] *",
   "language": "python",
   "name": "conda-base-py"
  },
  "language_info": {
   "codemirror_mode": {
    "name": "ipython",
    "version": 3
   },
   "file_extension": ".py",
   "mimetype": "text/x-python",
   "name": "python",
   "nbconvert_exporter": "python",
   "pygments_lexer": "ipython3",
   "version": "3.13.5"
  }
 },
 "nbformat": 4,
 "nbformat_minor": 5
}
